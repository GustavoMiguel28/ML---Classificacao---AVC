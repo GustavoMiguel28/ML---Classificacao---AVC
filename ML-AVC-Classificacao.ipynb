{
 "cells": [
  {
   "attachments": {},
   "cell_type": "markdown",
   "metadata": {},
   "source": [
    "# Machine Learning - AVC"
   ]
  },
  {
   "attachments": {},
   "cell_type": "markdown",
   "metadata": {},
   "source": [
    "## Leitura da base de dados"
   ]
  },
  {
   "cell_type": "code",
   "execution_count": 1,
   "metadata": {},
   "outputs": [],
   "source": [
    "import pandas as pd"
   ]
  },
  {
   "cell_type": "code",
   "execution_count": 2,
   "metadata": {},
   "outputs": [],
   "source": [
    "# Lendo arquivo\n",
    "\n",
    "df = pd.read_csv('healthcare-dataset-stroke-data.csv'\n",
    "                 ,sep = ';'\n",
    "                 ,header = 0)"
   ]
  },
  {
   "cell_type": "code",
   "execution_count": 3,
   "metadata": {},
   "outputs": [
    {
     "data": {
      "text/html": [
       "<div>\n",
       "<style scoped>\n",
       "    .dataframe tbody tr th:only-of-type {\n",
       "        vertical-align: middle;\n",
       "    }\n",
       "\n",
       "    .dataframe tbody tr th {\n",
       "        vertical-align: top;\n",
       "    }\n",
       "\n",
       "    .dataframe thead th {\n",
       "        text-align: right;\n",
       "    }\n",
       "</style>\n",
       "<table border=\"1\" class=\"dataframe\">\n",
       "  <thead>\n",
       "    <tr style=\"text-align: right;\">\n",
       "      <th></th>\n",
       "      <th>id</th>\n",
       "      <th>gender</th>\n",
       "      <th>age</th>\n",
       "      <th>hypertension</th>\n",
       "      <th>heart_disease</th>\n",
       "      <th>work_type</th>\n",
       "      <th>Residence_type</th>\n",
       "      <th>avg_glucose_level</th>\n",
       "      <th>bmi</th>\n",
       "      <th>smoking_status</th>\n",
       "      <th>stroke</th>\n",
       "    </tr>\n",
       "  </thead>\n",
       "  <tbody>\n",
       "    <tr>\n",
       "      <th>0</th>\n",
       "      <td>9046</td>\n",
       "      <td>Male</td>\n",
       "      <td>67</td>\n",
       "      <td>0</td>\n",
       "      <td>1</td>\n",
       "      <td>Private</td>\n",
       "      <td>Urban</td>\n",
       "      <td>228.69</td>\n",
       "      <td>36.6</td>\n",
       "      <td>formerly smoked</td>\n",
       "      <td>1</td>\n",
       "    </tr>\n",
       "    <tr>\n",
       "      <th>1</th>\n",
       "      <td>51676</td>\n",
       "      <td>Female</td>\n",
       "      <td>61</td>\n",
       "      <td>0</td>\n",
       "      <td>0</td>\n",
       "      <td>Self-employed</td>\n",
       "      <td>Rural</td>\n",
       "      <td>202.21</td>\n",
       "      <td>NaN</td>\n",
       "      <td>never smoked</td>\n",
       "      <td>1</td>\n",
       "    </tr>\n",
       "    <tr>\n",
       "      <th>2</th>\n",
       "      <td>31112</td>\n",
       "      <td>Male</td>\n",
       "      <td>80</td>\n",
       "      <td>0</td>\n",
       "      <td>1</td>\n",
       "      <td>Private</td>\n",
       "      <td>Rural</td>\n",
       "      <td>105.92</td>\n",
       "      <td>32.5</td>\n",
       "      <td>never smoked</td>\n",
       "      <td>1</td>\n",
       "    </tr>\n",
       "    <tr>\n",
       "      <th>3</th>\n",
       "      <td>60182</td>\n",
       "      <td>Female</td>\n",
       "      <td>49</td>\n",
       "      <td>0</td>\n",
       "      <td>0</td>\n",
       "      <td>Private</td>\n",
       "      <td>Urban</td>\n",
       "      <td>171.23</td>\n",
       "      <td>34.4</td>\n",
       "      <td>smokes</td>\n",
       "      <td>1</td>\n",
       "    </tr>\n",
       "    <tr>\n",
       "      <th>4</th>\n",
       "      <td>1665</td>\n",
       "      <td>Female</td>\n",
       "      <td>79</td>\n",
       "      <td>1</td>\n",
       "      <td>0</td>\n",
       "      <td>Self-employed</td>\n",
       "      <td>Rural</td>\n",
       "      <td>174.12</td>\n",
       "      <td>24.0</td>\n",
       "      <td>never smoked</td>\n",
       "      <td>1</td>\n",
       "    </tr>\n",
       "  </tbody>\n",
       "</table>\n",
       "</div>"
      ],
      "text/plain": [
       "      id  gender  age  hypertension  heart_disease      work_type  \\\n",
       "0   9046    Male   67             0              1        Private   \n",
       "1  51676  Female   61             0              0  Self-employed   \n",
       "2  31112    Male   80             0              1        Private   \n",
       "3  60182  Female   49             0              0        Private   \n",
       "4   1665  Female   79             1              0  Self-employed   \n",
       "\n",
       "  Residence_type  avg_glucose_level   bmi   smoking_status  stroke  \n",
       "0          Urban             228.69  36.6  formerly smoked       1  \n",
       "1          Rural             202.21   NaN     never smoked       1  \n",
       "2          Rural             105.92  32.5     never smoked       1  \n",
       "3          Urban             171.23  34.4           smokes       1  \n",
       "4          Rural             174.12  24.0     never smoked       1  "
      ]
     },
     "execution_count": 3,
     "metadata": {},
     "output_type": "execute_result"
    }
   ],
   "source": [
    "# Visualizando as 5 primeiras linhas do dataframe\n",
    "\n",
    "df.head(5)"
   ]
  },
  {
   "cell_type": "code",
   "execution_count": 4,
   "metadata": {},
   "outputs": [
    {
     "name": "stdout",
     "output_type": "stream",
     "text": [
      "N° de linhas: 4354\n",
      "N° de colunas:11\n"
     ]
    }
   ],
   "source": [
    "# Conferindo número total de linhas e colunas do dataframe\n",
    "\n",
    "print(f\"\"\"N° de linhas: {df.shape[0]}\\n\\\n",
    "N° de colunas:{df.shape[1]}\"\"\")"
   ]
  },
  {
   "cell_type": "code",
   "execution_count": 5,
   "metadata": {},
   "outputs": [
    {
     "data": {
      "text/html": [
       "<div>\n",
       "<style scoped>\n",
       "    .dataframe tbody tr th:only-of-type {\n",
       "        vertical-align: middle;\n",
       "    }\n",
       "\n",
       "    .dataframe tbody tr th {\n",
       "        vertical-align: top;\n",
       "    }\n",
       "\n",
       "    .dataframe thead th {\n",
       "        text-align: right;\n",
       "    }\n",
       "</style>\n",
       "<table border=\"1\" class=\"dataframe\">\n",
       "  <thead>\n",
       "    <tr style=\"text-align: right;\">\n",
       "      <th></th>\n",
       "      <th>id</th>\n",
       "      <th>age</th>\n",
       "      <th>hypertension</th>\n",
       "      <th>heart_disease</th>\n",
       "      <th>avg_glucose_level</th>\n",
       "      <th>bmi</th>\n",
       "      <th>stroke</th>\n",
       "    </tr>\n",
       "  </thead>\n",
       "  <tbody>\n",
       "    <tr>\n",
       "      <th>count</th>\n",
       "      <td>4354.000000</td>\n",
       "      <td>4354.000000</td>\n",
       "      <td>4354.000000</td>\n",
       "      <td>4354.000000</td>\n",
       "      <td>4354.000000</td>\n",
       "      <td>4170.000000</td>\n",
       "      <td>4354.000000</td>\n",
       "    </tr>\n",
       "    <tr>\n",
       "      <th>mean</th>\n",
       "      <td>36586.869545</td>\n",
       "      <td>49.428112</td>\n",
       "      <td>0.114378</td>\n",
       "      <td>0.063160</td>\n",
       "      <td>108.100165</td>\n",
       "      <td>30.373477</td>\n",
       "      <td>0.056729</td>\n",
       "    </tr>\n",
       "    <tr>\n",
       "      <th>std</th>\n",
       "      <td>21188.579704</td>\n",
       "      <td>18.331694</td>\n",
       "      <td>0.318306</td>\n",
       "      <td>0.243279</td>\n",
       "      <td>47.408478</td>\n",
       "      <td>7.322414</td>\n",
       "      <td>0.231351</td>\n",
       "    </tr>\n",
       "    <tr>\n",
       "      <th>min</th>\n",
       "      <td>67.000000</td>\n",
       "      <td>16.000000</td>\n",
       "      <td>0.000000</td>\n",
       "      <td>0.000000</td>\n",
       "      <td>55.120000</td>\n",
       "      <td>11.300000</td>\n",
       "      <td>0.000000</td>\n",
       "    </tr>\n",
       "    <tr>\n",
       "      <th>25%</th>\n",
       "      <td>17901.250000</td>\n",
       "      <td>34.250000</td>\n",
       "      <td>0.000000</td>\n",
       "      <td>0.000000</td>\n",
       "      <td>77.465000</td>\n",
       "      <td>25.300000</td>\n",
       "      <td>0.000000</td>\n",
       "    </tr>\n",
       "    <tr>\n",
       "      <th>50%</th>\n",
       "      <td>37071.000000</td>\n",
       "      <td>50.000000</td>\n",
       "      <td>0.000000</td>\n",
       "      <td>0.000000</td>\n",
       "      <td>92.245000</td>\n",
       "      <td>29.100000</td>\n",
       "      <td>0.000000</td>\n",
       "    </tr>\n",
       "    <tr>\n",
       "      <th>75%</th>\n",
       "      <td>54748.500000</td>\n",
       "      <td>63.000000</td>\n",
       "      <td>0.000000</td>\n",
       "      <td>0.000000</td>\n",
       "      <td>115.820000</td>\n",
       "      <td>34.100000</td>\n",
       "      <td>0.000000</td>\n",
       "    </tr>\n",
       "    <tr>\n",
       "      <th>max</th>\n",
       "      <td>72918.000000</td>\n",
       "      <td>82.000000</td>\n",
       "      <td>1.000000</td>\n",
       "      <td>1.000000</td>\n",
       "      <td>271.740000</td>\n",
       "      <td>97.600000</td>\n",
       "      <td>1.000000</td>\n",
       "    </tr>\n",
       "  </tbody>\n",
       "</table>\n",
       "</div>"
      ],
      "text/plain": [
       "                 id          age  hypertension  heart_disease  \\\n",
       "count   4354.000000  4354.000000   4354.000000    4354.000000   \n",
       "mean   36586.869545    49.428112      0.114378       0.063160   \n",
       "std    21188.579704    18.331694      0.318306       0.243279   \n",
       "min       67.000000    16.000000      0.000000       0.000000   \n",
       "25%    17901.250000    34.250000      0.000000       0.000000   \n",
       "50%    37071.000000    50.000000      0.000000       0.000000   \n",
       "75%    54748.500000    63.000000      0.000000       0.000000   \n",
       "max    72918.000000    82.000000      1.000000       1.000000   \n",
       "\n",
       "       avg_glucose_level          bmi       stroke  \n",
       "count        4354.000000  4170.000000  4354.000000  \n",
       "mean          108.100165    30.373477     0.056729  \n",
       "std            47.408478     7.322414     0.231351  \n",
       "min            55.120000    11.300000     0.000000  \n",
       "25%            77.465000    25.300000     0.000000  \n",
       "50%            92.245000    29.100000     0.000000  \n",
       "75%           115.820000    34.100000     0.000000  \n",
       "max           271.740000    97.600000     1.000000  "
      ]
     },
     "execution_count": 5,
     "metadata": {},
     "output_type": "execute_result"
    }
   ],
   "source": [
    "df.describe()"
   ]
  },
  {
   "attachments": {},
   "cell_type": "markdown",
   "metadata": {},
   "source": [
    "## Tratamento / Ajuste do dataframe"
   ]
  },
  {
   "cell_type": "code",
   "execution_count": 6,
   "metadata": {},
   "outputs": [
    {
     "name": "stdout",
     "output_type": "stream",
     "text": [
      "<class 'pandas.core.frame.DataFrame'>\n",
      "RangeIndex: 4354 entries, 0 to 4353\n",
      "Data columns (total 11 columns):\n",
      " #   Column             Non-Null Count  Dtype  \n",
      "---  ------             --------------  -----  \n",
      " 0   id                 4354 non-null   int64  \n",
      " 1   gender             4354 non-null   object \n",
      " 2   age                4354 non-null   int64  \n",
      " 3   hypertension       4354 non-null   int64  \n",
      " 4   heart_disease      4354 non-null   int64  \n",
      " 5   work_type          4354 non-null   object \n",
      " 6   Residence_type     4354 non-null   object \n",
      " 7   avg_glucose_level  4354 non-null   float64\n",
      " 8   bmi                4170 non-null   float64\n",
      " 9   smoking_status     4354 non-null   object \n",
      " 10  stroke             4354 non-null   int64  \n",
      "dtypes: float64(2), int64(5), object(4)\n",
      "memory usage: 374.3+ KB\n"
     ]
    }
   ],
   "source": [
    "# Verificando informações das colunas\n",
    "\n",
    "df.info()"
   ]
  },
  {
   "cell_type": "code",
   "execution_count": 7,
   "metadata": {},
   "outputs": [
    {
     "data": {
      "text/html": [
       "<div>\n",
       "<style scoped>\n",
       "    .dataframe tbody tr th:only-of-type {\n",
       "        vertical-align: middle;\n",
       "    }\n",
       "\n",
       "    .dataframe tbody tr th {\n",
       "        vertical-align: top;\n",
       "    }\n",
       "\n",
       "    .dataframe thead th {\n",
       "        text-align: right;\n",
       "    }\n",
       "</style>\n",
       "<table border=\"1\" class=\"dataframe\">\n",
       "  <thead>\n",
       "    <tr style=\"text-align: right;\">\n",
       "      <th></th>\n",
       "      <th>id</th>\n",
       "      <th>age</th>\n",
       "      <th>hypertension</th>\n",
       "      <th>heart_disease</th>\n",
       "      <th>avg_glucose_level</th>\n",
       "      <th>bmi</th>\n",
       "      <th>stroke</th>\n",
       "    </tr>\n",
       "  </thead>\n",
       "  <tbody>\n",
       "    <tr>\n",
       "      <th>id</th>\n",
       "      <td>1.000000</td>\n",
       "      <td>-0.003225</td>\n",
       "      <td>0.002706</td>\n",
       "      <td>-0.003558</td>\n",
       "      <td>-0.004051</td>\n",
       "      <td>-0.005955</td>\n",
       "      <td>0.003996</td>\n",
       "    </tr>\n",
       "    <tr>\n",
       "      <th>age</th>\n",
       "      <td>-0.003225</td>\n",
       "      <td>1.000000</td>\n",
       "      <td>0.251290</td>\n",
       "      <td>0.269161</td>\n",
       "      <td>0.233428</td>\n",
       "      <td>0.045350</td>\n",
       "      <td>0.251350</td>\n",
       "    </tr>\n",
       "    <tr>\n",
       "      <th>hypertension</th>\n",
       "      <td>0.002706</td>\n",
       "      <td>0.251290</td>\n",
       "      <td>1.000000</td>\n",
       "      <td>0.096552</td>\n",
       "      <td>0.167461</td>\n",
       "      <td>0.126667</td>\n",
       "      <td>0.117760</td>\n",
       "    </tr>\n",
       "    <tr>\n",
       "      <th>heart_disease</th>\n",
       "      <td>-0.003558</td>\n",
       "      <td>0.269161</td>\n",
       "      <td>0.096552</td>\n",
       "      <td>1.000000</td>\n",
       "      <td>0.158779</td>\n",
       "      <td>-0.001805</td>\n",
       "      <td>0.128161</td>\n",
       "    </tr>\n",
       "    <tr>\n",
       "      <th>avg_glucose_level</th>\n",
       "      <td>-0.004051</td>\n",
       "      <td>0.233428</td>\n",
       "      <td>0.167461</td>\n",
       "      <td>0.158779</td>\n",
       "      <td>1.000000</td>\n",
       "      <td>0.151990</td>\n",
       "      <td>0.129328</td>\n",
       "    </tr>\n",
       "    <tr>\n",
       "      <th>bmi</th>\n",
       "      <td>-0.005955</td>\n",
       "      <td>0.045350</td>\n",
       "      <td>0.126667</td>\n",
       "      <td>-0.001805</td>\n",
       "      <td>0.151990</td>\n",
       "      <td>1.000000</td>\n",
       "      <td>0.002997</td>\n",
       "    </tr>\n",
       "    <tr>\n",
       "      <th>stroke</th>\n",
       "      <td>0.003996</td>\n",
       "      <td>0.251350</td>\n",
       "      <td>0.117760</td>\n",
       "      <td>0.128161</td>\n",
       "      <td>0.129328</td>\n",
       "      <td>0.002997</td>\n",
       "      <td>1.000000</td>\n",
       "    </tr>\n",
       "  </tbody>\n",
       "</table>\n",
       "</div>"
      ],
      "text/plain": [
       "                         id       age  hypertension  heart_disease  \\\n",
       "id                 1.000000 -0.003225      0.002706      -0.003558   \n",
       "age               -0.003225  1.000000      0.251290       0.269161   \n",
       "hypertension       0.002706  0.251290      1.000000       0.096552   \n",
       "heart_disease     -0.003558  0.269161      0.096552       1.000000   \n",
       "avg_glucose_level -0.004051  0.233428      0.167461       0.158779   \n",
       "bmi               -0.005955  0.045350      0.126667      -0.001805   \n",
       "stroke             0.003996  0.251350      0.117760       0.128161   \n",
       "\n",
       "                   avg_glucose_level       bmi    stroke  \n",
       "id                         -0.004051 -0.005955  0.003996  \n",
       "age                         0.233428  0.045350  0.251350  \n",
       "hypertension                0.167461  0.126667  0.117760  \n",
       "heart_disease               0.158779 -0.001805  0.128161  \n",
       "avg_glucose_level           1.000000  0.151990  0.129328  \n",
       "bmi                         0.151990  1.000000  0.002997  \n",
       "stroke                      0.129328  0.002997  1.000000  "
      ]
     },
     "execution_count": 7,
     "metadata": {},
     "output_type": "execute_result"
    }
   ],
   "source": [
    "df.corr()"
   ]
  },
  {
   "cell_type": "code",
   "execution_count": 8,
   "metadata": {},
   "outputs": [],
   "source": [
    "# Alterando nome das colunas\n",
    "\n",
    "colunas = {'id': 'ID',\n",
    "           'gender': 'Genero',\n",
    "           'age': 'Idade',\n",
    "           'hypertension': 'Hipertensao',\n",
    "           'heart_disease': 'DoençaCardiaca',\n",
    "           'work_type': 'TipoTrabalho',\n",
    "           'Residence_type': 'TipoResidencia',\n",
    "           'avg_glucose_level': 'NivelGlicose',\n",
    "           'bmi': 'IMC',\n",
    "           'smoking_status': 'StatusFumante',\n",
    "           'stroke': 'AVC'}\n",
    "\n",
    "df = df.rename(columns=colunas)"
   ]
  },
  {
   "cell_type": "code",
   "execution_count": 9,
   "metadata": {},
   "outputs": [
    {
     "name": "stdout",
     "output_type": "stream",
     "text": [
      "Genero = ['Male', 'Female']\n",
      "TipoTrabalho = ['Private', 'Self-employed', 'Govt_job', 'Never_worked']\n",
      "TipoResidencia = ['Urban', 'Rural']\n",
      "StatusFumante = ['formerly smoked', 'never smoked', 'smokes', 'Unknown']\n"
     ]
    }
   ],
   "source": [
    "# Verificando itens em cada coluna\n",
    "\n",
    "colunas_traducao = ['Genero', 'TipoTrabalho', 'TipoResidencia', 'StatusFumante']\n",
    "\n",
    "for coluna in colunas_traducao:\n",
    "  print(f'{coluna} = {list(df[coluna].unique())}')"
   ]
  },
  {
   "cell_type": "code",
   "execution_count": 10,
   "metadata": {},
   "outputs": [],
   "source": [
    "# Traduzindo dados\n",
    "\n",
    "trad_genero = {'Male': 'Masculino',\n",
    "               'Female': 'Feminino'}\n",
    "\n",
    "trad_tipotrabalho = {'Private': 'Privado',\n",
    "                     'Self-employed': 'Autonomo',\n",
    "                     'Govt_job': 'ServidorPublico',\n",
    "                     'Never_worked': 'NuncaTrabalhou'}\n",
    "\n",
    "trad_tiporesidencia = {'Urban': 'Urbano',\n",
    "                       'Rural': 'Rural'}\n",
    "\n",
    "trad_statusfumante = {'formerly smoked': 'ExFumante',\n",
    "                      'never smoked': 'NuncaFumou',\n",
    "                      'smokes': 'Fumante',\n",
    "                      'Unknown': 'Desconhecido'}\n",
    "\n",
    "traducoes = [('Genero', trad_genero),\n",
    "             ('TipoTrabalho', trad_tipotrabalho),\n",
    "             ('TipoResidencia', trad_tiporesidencia),\n",
    "             ('StatusFumante', trad_statusfumante)]\n",
    "\n",
    "for nm_coluna, mapa in traducoes:\n",
    "  df[nm_coluna] = df[nm_coluna].map(mapa)"
   ]
  },
  {
   "cell_type": "code",
   "execution_count": 11,
   "metadata": {},
   "outputs": [
    {
     "data": {
      "text/plain": [
       "ID                  0\n",
       "Genero              0\n",
       "Idade               0\n",
       "Hipertensao         0\n",
       "DoençaCardiaca      0\n",
       "TipoTrabalho        0\n",
       "TipoResidencia      0\n",
       "NivelGlicose        0\n",
       "IMC               184\n",
       "StatusFumante       0\n",
       "AVC                 0\n",
       "dtype: int64"
      ]
     },
     "execution_count": 11,
     "metadata": {},
     "output_type": "execute_result"
    }
   ],
   "source": [
    "# Verificando dados nulos\n",
    "\n",
    "df.isnull().sum()"
   ]
  },
  {
   "cell_type": "code",
   "execution_count": 12,
   "metadata": {},
   "outputs": [],
   "source": [
    "# Apagando dados nulos\n",
    "\n",
    "df = df.dropna()"
   ]
  },
  {
   "cell_type": "code",
   "execution_count": 13,
   "metadata": {},
   "outputs": [],
   "source": [
    "# Separando as variaveis categoricas\n",
    "\n",
    "df_dummies = pd.get_dummies(df[['Genero', 'TipoTrabalho', 'TipoResidencia', 'StatusFumante']])\n",
    "\n",
    "df = df.join(df_dummies)"
   ]
  },
  {
   "cell_type": "code",
   "execution_count": 14,
   "metadata": {},
   "outputs": [],
   "source": [
    "# Selecionando as colunas\n",
    "\n",
    "df = df[['Genero_Feminino',\n",
    "         'Genero_Masculino',\n",
    "         'Idade',\n",
    "         'Hipertensao',\n",
    "         'DoençaCardiaca',\n",
    "         'TipoTrabalho_Autonomo',\n",
    "         'TipoTrabalho_NuncaTrabalhou',\n",
    "         'TipoTrabalho_Privado',\n",
    "         'TipoTrabalho_ServidorPublico',\n",
    "         'TipoResidencia_Rural',\n",
    "         'TipoResidencia_Urbano',\n",
    "         'NivelGlicose',\n",
    "         'IMC',\n",
    "         'StatusFumante_ExFumante',\n",
    "         'StatusFumante_Fumante',\n",
    "         'StatusFumante_NuncaFumou',\n",
    "         'AVC']]"
   ]
  },
  {
   "cell_type": "code",
   "execution_count": 15,
   "metadata": {},
   "outputs": [
    {
     "data": {
      "text/html": [
       "<div>\n",
       "<style scoped>\n",
       "    .dataframe tbody tr th:only-of-type {\n",
       "        vertical-align: middle;\n",
       "    }\n",
       "\n",
       "    .dataframe tbody tr th {\n",
       "        vertical-align: top;\n",
       "    }\n",
       "\n",
       "    .dataframe thead th {\n",
       "        text-align: right;\n",
       "    }\n",
       "</style>\n",
       "<table border=\"1\" class=\"dataframe\">\n",
       "  <thead>\n",
       "    <tr style=\"text-align: right;\">\n",
       "      <th></th>\n",
       "      <th>Genero_Feminino</th>\n",
       "      <th>Genero_Masculino</th>\n",
       "      <th>Idade</th>\n",
       "      <th>Hipertensao</th>\n",
       "      <th>DoençaCardiaca</th>\n",
       "      <th>TipoTrabalho_Autonomo</th>\n",
       "      <th>TipoTrabalho_NuncaTrabalhou</th>\n",
       "      <th>TipoTrabalho_Privado</th>\n",
       "      <th>TipoTrabalho_ServidorPublico</th>\n",
       "      <th>TipoResidencia_Rural</th>\n",
       "      <th>TipoResidencia_Urbano</th>\n",
       "      <th>NivelGlicose</th>\n",
       "      <th>IMC</th>\n",
       "      <th>StatusFumante_ExFumante</th>\n",
       "      <th>StatusFumante_Fumante</th>\n",
       "      <th>StatusFumante_NuncaFumou</th>\n",
       "      <th>AVC</th>\n",
       "    </tr>\n",
       "  </thead>\n",
       "  <tbody>\n",
       "    <tr>\n",
       "      <th>0</th>\n",
       "      <td>0</td>\n",
       "      <td>1</td>\n",
       "      <td>67</td>\n",
       "      <td>0</td>\n",
       "      <td>1</td>\n",
       "      <td>0</td>\n",
       "      <td>0</td>\n",
       "      <td>1</td>\n",
       "      <td>0</td>\n",
       "      <td>0</td>\n",
       "      <td>1</td>\n",
       "      <td>228.69</td>\n",
       "      <td>36.6</td>\n",
       "      <td>1</td>\n",
       "      <td>0</td>\n",
       "      <td>0</td>\n",
       "      <td>1</td>\n",
       "    </tr>\n",
       "    <tr>\n",
       "      <th>2</th>\n",
       "      <td>0</td>\n",
       "      <td>1</td>\n",
       "      <td>80</td>\n",
       "      <td>0</td>\n",
       "      <td>1</td>\n",
       "      <td>0</td>\n",
       "      <td>0</td>\n",
       "      <td>1</td>\n",
       "      <td>0</td>\n",
       "      <td>1</td>\n",
       "      <td>0</td>\n",
       "      <td>105.92</td>\n",
       "      <td>32.5</td>\n",
       "      <td>0</td>\n",
       "      <td>0</td>\n",
       "      <td>1</td>\n",
       "      <td>1</td>\n",
       "    </tr>\n",
       "    <tr>\n",
       "      <th>3</th>\n",
       "      <td>1</td>\n",
       "      <td>0</td>\n",
       "      <td>49</td>\n",
       "      <td>0</td>\n",
       "      <td>0</td>\n",
       "      <td>0</td>\n",
       "      <td>0</td>\n",
       "      <td>1</td>\n",
       "      <td>0</td>\n",
       "      <td>0</td>\n",
       "      <td>1</td>\n",
       "      <td>171.23</td>\n",
       "      <td>34.4</td>\n",
       "      <td>0</td>\n",
       "      <td>1</td>\n",
       "      <td>0</td>\n",
       "      <td>1</td>\n",
       "    </tr>\n",
       "    <tr>\n",
       "      <th>4</th>\n",
       "      <td>1</td>\n",
       "      <td>0</td>\n",
       "      <td>79</td>\n",
       "      <td>1</td>\n",
       "      <td>0</td>\n",
       "      <td>1</td>\n",
       "      <td>0</td>\n",
       "      <td>0</td>\n",
       "      <td>0</td>\n",
       "      <td>1</td>\n",
       "      <td>0</td>\n",
       "      <td>174.12</td>\n",
       "      <td>24.0</td>\n",
       "      <td>0</td>\n",
       "      <td>0</td>\n",
       "      <td>1</td>\n",
       "      <td>1</td>\n",
       "    </tr>\n",
       "    <tr>\n",
       "      <th>5</th>\n",
       "      <td>0</td>\n",
       "      <td>1</td>\n",
       "      <td>81</td>\n",
       "      <td>0</td>\n",
       "      <td>0</td>\n",
       "      <td>0</td>\n",
       "      <td>0</td>\n",
       "      <td>1</td>\n",
       "      <td>0</td>\n",
       "      <td>0</td>\n",
       "      <td>1</td>\n",
       "      <td>186.21</td>\n",
       "      <td>29.0</td>\n",
       "      <td>1</td>\n",
       "      <td>0</td>\n",
       "      <td>0</td>\n",
       "      <td>1</td>\n",
       "    </tr>\n",
       "  </tbody>\n",
       "</table>\n",
       "</div>"
      ],
      "text/plain": [
       "   Genero_Feminino  Genero_Masculino  Idade  Hipertensao  DoençaCardiaca  \\\n",
       "0                0                 1     67            0               1   \n",
       "2                0                 1     80            0               1   \n",
       "3                1                 0     49            0               0   \n",
       "4                1                 0     79            1               0   \n",
       "5                0                 1     81            0               0   \n",
       "\n",
       "   TipoTrabalho_Autonomo  TipoTrabalho_NuncaTrabalhou  TipoTrabalho_Privado  \\\n",
       "0                      0                            0                     1   \n",
       "2                      0                            0                     1   \n",
       "3                      0                            0                     1   \n",
       "4                      1                            0                     0   \n",
       "5                      0                            0                     1   \n",
       "\n",
       "   TipoTrabalho_ServidorPublico  TipoResidencia_Rural  TipoResidencia_Urbano  \\\n",
       "0                             0                     0                      1   \n",
       "2                             0                     1                      0   \n",
       "3                             0                     0                      1   \n",
       "4                             0                     1                      0   \n",
       "5                             0                     0                      1   \n",
       "\n",
       "   NivelGlicose   IMC  StatusFumante_ExFumante  StatusFumante_Fumante  \\\n",
       "0        228.69  36.6                        1                      0   \n",
       "2        105.92  32.5                        0                      0   \n",
       "3        171.23  34.4                        0                      1   \n",
       "4        174.12  24.0                        0                      0   \n",
       "5        186.21  29.0                        1                      0   \n",
       "\n",
       "   StatusFumante_NuncaFumou  AVC  \n",
       "0                         0    1  \n",
       "2                         1    1  \n",
       "3                         0    1  \n",
       "4                         1    1  \n",
       "5                         0    1  "
      ]
     },
     "execution_count": 15,
     "metadata": {},
     "output_type": "execute_result"
    }
   ],
   "source": [
    "df.head()"
   ]
  },
  {
   "attachments": {},
   "cell_type": "markdown",
   "metadata": {},
   "source": [
    "## Desenvolvimento do algoritmo"
   ]
  },
  {
   "cell_type": "code",
   "execution_count": null,
   "metadata": {},
   "outputs": [],
   "source": [
    "%pip install imblearn\n",
    "\n",
    "from imblearn.over_sampling import SMOTE\n",
    "import numpy as np"
   ]
  },
  {
   "cell_type": "code",
   "execution_count": 18,
   "metadata": {},
   "outputs": [],
   "source": [
    "# Separando dataframe em x (variaveis) e y (label)\n",
    "\n",
    "X = df.drop('AVC', axis = 1)\n",
    "y = df.AVC"
   ]
  },
  {
   "cell_type": "code",
   "execution_count": 19,
   "metadata": {},
   "outputs": [
    {
     "data": {
      "text/plain": [
       "array([3962,  208], dtype=int64)"
      ]
     },
     "execution_count": 19,
     "metadata": {},
     "output_type": "execute_result"
    }
   ],
   "source": [
    "# Verificando balanceamento da label AVC\n",
    "\n",
    "np.bincount(y)"
   ]
  },
  {
   "cell_type": "code",
   "execution_count": 20,
   "metadata": {},
   "outputs": [],
   "source": [
    "# Balanceando base\n",
    "\n",
    "smt = SMOTE()\n",
    "\n",
    "X, y = smt.fit_resample(X, y)"
   ]
  },
  {
   "cell_type": "code",
   "execution_count": 21,
   "metadata": {},
   "outputs": [
    {
     "data": {
      "text/plain": [
       "array([3962, 3962], dtype=int64)"
      ]
     },
     "execution_count": 21,
     "metadata": {},
     "output_type": "execute_result"
    }
   ],
   "source": [
    "# Verificando dados após balanceamento da label AVC\n",
    "\n",
    "np.bincount(y)"
   ]
  },
  {
   "cell_type": "code",
   "execution_count": 22,
   "metadata": {},
   "outputs": [],
   "source": [
    "# Separando dataset em treino e teste\n",
    "\n",
    "from sklearn.model_selection import train_test_split\n",
    "\n",
    "X_train, X_test, y_train, y_test = train_test_split(X, y, test_size=0.3, random_state=40)"
   ]
  },
  {
   "cell_type": "code",
   "execution_count": 23,
   "metadata": {},
   "outputs": [],
   "source": [
    "from sklearn.ensemble import RandomForestClassifier\n",
    "\n",
    "# Instanciando modelo\n",
    "modelo = RandomForestClassifier()\n",
    "\n",
    "# Treinando modelo\n",
    "modelo.fit(X_train,y_train)\n",
    "\n",
    "# Realizando classificações no conjunto de test\n",
    "pred = modelo.predict(X_test)"
   ]
  },
  {
   "cell_type": "code",
   "execution_count": 24,
   "metadata": {},
   "outputs": [
    {
     "name": "stdout",
     "output_type": "stream",
     "text": [
      "              precision    recall  f1-score   support\n",
      "\n",
      "           0       0.95      0.98      0.96      1154\n",
      "           1       0.98      0.95      0.96      1224\n",
      "\n",
      "    accuracy                           0.96      2378\n",
      "   macro avg       0.96      0.96      0.96      2378\n",
      "weighted avg       0.96      0.96      0.96      2378\n",
      "\n"
     ]
    }
   ],
   "source": [
    "from sklearn.metrics import classification_report\n",
    "\n",
    "print(classification_report(y_test, pred))"
   ]
  },
  {
   "cell_type": "code",
   "execution_count": 25,
   "metadata": {},
   "outputs": [
    {
     "name": "stdout",
     "output_type": "stream",
     "text": [
      "A acurácia final do algoritmo é 96.43%\n"
     ]
    }
   ],
   "source": [
    "from sklearn.metrics import accuracy_score\n",
    "\n",
    "acuracia = accuracy_score(y_test, pred)\n",
    "\n",
    "print(f'A acurácia final do algoritmo é {round(acuracia*100,2)}%')"
   ]
  }
 ],
 "metadata": {
  "kernelspec": {
   "display_name": "Python 3",
   "language": "python",
   "name": "python3"
  },
  "language_info": {
   "codemirror_mode": {
    "name": "ipython",
    "version": 3
   },
   "file_extension": ".py",
   "mimetype": "text/x-python",
   "name": "python",
   "nbconvert_exporter": "python",
   "pygments_lexer": "ipython3",
   "version": "3.9.4"
  },
  "orig_nbformat": 4,
  "vscode": {
   "interpreter": {
    "hash": "0ff9f4dcddd77e74801e1ba183825b6d6a7eef152926a667f6beda87de3b3691"
   }
  }
 },
 "nbformat": 4,
 "nbformat_minor": 2
}
